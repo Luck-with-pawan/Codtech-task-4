{
 "cells": [
  {
   "cell_type": "markdown",
   "id": "b5220780",
   "metadata": {},
   "source": [
    "# 📬 Spam Email Detection using Machine Learning\n",
    "This project builds a predictive model to classify emails as spam or not spam using Scikit-learn and Natural Language Processing (NLP)."
   ]
  },
  {
   "cell_type": "code",
   "execution_count": null,
   "id": "185c18c7",
   "metadata": {},
   "outputs": [],
   "source": [
    "import pandas as pd\n",
    "import numpy as np\n",
    "import matplotlib.pyplot as plt\n",
    "import seab as sns\n",
    "\n",
    "from sklearn.model_selection import train_test_split\n",
    "from sklearn.feature_extraction.text import CountVectorizer\n",
    "from sklearn.naive_bayes import MultinomialNB\n",
    "from sklearn.metrics import classification_report, confusion_matrix, accuracy_score\n"
   ]
  },
  {
   "cell_type": "markdown",
   "id": "3ddd86d2",
   "metadata": {},
   "source": [
    "## 📥 Load Dataset"
   ]
  },
  {
   "cell_type": "code",
   "execution_count": null,
   "id": "4d357cf5",
   "metadata": {},
   "outputs": [],
   "source": [
    "df = pd.read_csv(\"https://raw.githubusercontent.com/justmarkham/pycon-2016-tutorial/master/data/sms.tsv\", sep='\\t', names=[\"label\", \"message\"])\n",
    "df.head()"
   ]
  },
  {
   "cell_type": "markdown",
   "id": "93142b6e",
   "metadata": {},
   "source": [
    "## 🔧 Preprocessing"
   ]
  },
  {
   "cell_type": "code",
   "execution_count": null,
   "id": "1e7ee623",
   "metadata": {},
   "outputs": [],
   "source": [
    "df['label_num'] = df.label.map({'ham':0, 'spam':1})\n",
    "X = df['message']\n",
    "y = df['label_num']\n",
    "\n",
    "cv = CountVectorizer()\n",
    "X_cv = cv.fit_transform(X)"
   ]
  },
  {
   "cell_type": "markdown",
   "id": "2f6195dc",
   "metadata": {},
   "source": [
    "## 🧪 Train-Test Split"
   ]
  },
  {
   "cell_type": "code",
   "execution_count": null,
   "id": "1c0f1f91",
   "metadata": {},
   "outputs": [],
   "source": [
    "X_train, X_test, y_train, y_test = train_test_split(X_cv, y, test_size=0.2, random_state=42)"
   ]
  },
  {
   "cell_type": "markdown",
   "id": "7f6c6bb8",
   "metadata": {},
   "source": [
    "## 🤖 Train the Model"
   ]
  },
  {
   "cell_type": "code",
   "execution_count": null,
   "id": "d4db4a24",
   "metadata": {},
   "outputs": [],
   "source": [
    "model = MultinomialNB()\n",
    "model.fit(X_train, y_train)"
   ]
  },
  {
   "cell_type": "markdown",
   "id": "0a743309",
   "metadata": {},
   "source": [
    "## 📊 Evaluate the Model"
   ]
  },
  {
   "cell_type": "code",
   "execution_count": null,
   "id": "f44852ce",
   "metadata": {},
   "outputs": [],
   "source": [
    "y_pred = model.predict(X_test)\n",
    "\n",
    "print(\"Accuracy:\", accuracy_score(y_test, y_pred))\n",
    "print(\"\\nClassification Report:\\n\", classification_report(y_test, y_pred))\n",
    "\n",
    "sns.heatmap(confusion_matrix(y_test, y_pred), annot=True, fmt='d', cmap='Blues')\n",
    "plt.title(\"Confusion Matrix\")\n",
    "plt.xlabel(\"Predicted\")\n",
    "plt.ylabel(\"Actual\")\n",
    "plt.show()"
   ]
  },
  {
   "cell_type": "markdown",
   "id": "a726b461",
   "metadata": {},
   "source": [
    "## 📬 Predict New Email"
   ]
  },
  {
   "cell_type": "code",
   "execution_count": null,
   "id": "4a83c1a5",
   "metadata": {},
   "outputs": [],
   "source": [
    "def predict_email(text):\n",
    "    text_cv = cv.transform([text])\n",
    "    prediction = model.predict(text_cv)\n",
    "    return \"Spam\" if prediction[0] == 1 else \"Not Spam\"\n",
    "\n",
    "predict_email(\"Congratulations! You've won a free ticket to Bahamas.\")"
   ]
  }
 ],
 "metadata": {},
 "nbformat": 4,
 "nbformat_minor": 5
}
